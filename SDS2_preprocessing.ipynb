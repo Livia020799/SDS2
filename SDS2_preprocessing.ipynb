{
  "nbformat": 4,
  "nbformat_minor": 0,
  "metadata": {
    "colab": {
      "provenance": []
    },
    "kernelspec": {
      "name": "python3",
      "display_name": "Python 3"
    },
    "language_info": {
      "name": "python"
    }
  },
  "cells": [
    {
      "cell_type": "markdown",
      "source": [
        "\n",
        "\n",
        "The dataset on *`Communities and Crime`* that I chose for my project is available in a GitHub repository. <br> You can fetch the data using the code provided on the dataset's [website](https://archive.ics.uci.edu/dataset/183/communities+and+crime):"
      ],
      "metadata": {
        "id": "z7dRGYKE6Bqw"
      }
    },
    {
      "cell_type": "code",
      "source": [
        "import seaborn as sns\n",
        "import numpy as np\n",
        "import pandas as pd\n",
        "import matplotlib.pyplot as plt\n",
        "from sklearn.feature_selection import VarianceThreshold"
      ],
      "metadata": {
        "id": "dS-2RM5JTo29"
      },
      "execution_count": 1,
      "outputs": []
    },
    {
      "cell_type": "code",
      "source": [
        "pip install ucimlrepo"
      ],
      "metadata": {
        "colab": {
          "base_uri": "https://localhost:8080/"
        },
        "id": "dTBbOdAFHJ9x",
        "outputId": "f7b45c42-8981-4b77-d9c2-0fdc1aa050c0"
      },
      "execution_count": 2,
      "outputs": [
        {
          "output_type": "stream",
          "name": "stdout",
          "text": [
            "Collecting ucimlrepo\n",
            "  Downloading ucimlrepo-0.0.7-py3-none-any.whl (8.0 kB)\n",
            "Requirement already satisfied: pandas>=1.0.0 in /usr/local/lib/python3.10/dist-packages (from ucimlrepo) (2.0.3)\n",
            "Requirement already satisfied: certifi>=2020.12.5 in /usr/local/lib/python3.10/dist-packages (from ucimlrepo) (2024.7.4)\n",
            "Requirement already satisfied: python-dateutil>=2.8.2 in /usr/local/lib/python3.10/dist-packages (from pandas>=1.0.0->ucimlrepo) (2.8.2)\n",
            "Requirement already satisfied: pytz>=2020.1 in /usr/local/lib/python3.10/dist-packages (from pandas>=1.0.0->ucimlrepo) (2023.4)\n",
            "Requirement already satisfied: tzdata>=2022.1 in /usr/local/lib/python3.10/dist-packages (from pandas>=1.0.0->ucimlrepo) (2024.1)\n",
            "Requirement already satisfied: numpy>=1.21.0 in /usr/local/lib/python3.10/dist-packages (from pandas>=1.0.0->ucimlrepo) (1.25.2)\n",
            "Requirement already satisfied: six>=1.5 in /usr/local/lib/python3.10/dist-packages (from python-dateutil>=2.8.2->pandas>=1.0.0->ucimlrepo) (1.16.0)\n",
            "Installing collected packages: ucimlrepo\n",
            "Successfully installed ucimlrepo-0.0.7\n"
          ]
        }
      ]
    },
    {
      "cell_type": "code",
      "source": [
        "from ucimlrepo import fetch_ucirepo\n",
        "\n",
        "# fetch dataset\n",
        "communities_and_crime = fetch_ucirepo(id=183)"
      ],
      "metadata": {
        "id": "AU7BqVBDHMJS"
      },
      "execution_count": 3,
      "outputs": []
    },
    {
      "cell_type": "code",
      "source": [
        "# data (as pandas dataframes)\n",
        "X = communities_and_crime.data.features\n",
        "y = communities_and_crime.data.targets  #target variable = total number of violent crimes per 100K population (numeric - decimal)\n",
        "\n",
        "X.replace('?', np.nan, inplace=True) #sobstitute \"?\" with missing values, as they are indeed missing values\n",
        "X.rename(columns={'county': 'country'}, inplace=True) #correcting a spell error in a variable name"
      ],
      "metadata": {
        "colab": {
          "base_uri": "https://localhost:8080/"
        },
        "id": "m9P2yMKcHpPO",
        "outputId": "11f35eb6-67e5-441e-9796-7dc40fd90c89"
      },
      "execution_count": 4,
      "outputs": [
        {
          "output_type": "stream",
          "name": "stderr",
          "text": [
            "<ipython-input-4-a49032ef4dbd>:5: SettingWithCopyWarning: \n",
            "A value is trying to be set on a copy of a slice from a DataFrame\n",
            "\n",
            "See the caveats in the documentation: https://pandas.pydata.org/pandas-docs/stable/user_guide/indexing.html#returning-a-view-versus-a-copy\n",
            "  X.replace('?', np.nan, inplace=True) #sobstitute \"?\" with missing values, as they are indeed missing values\n",
            "<ipython-input-4-a49032ef4dbd>:6: SettingWithCopyWarning: \n",
            "A value is trying to be set on a copy of a slice from a DataFrame\n",
            "\n",
            "See the caveats in the documentation: https://pandas.pydata.org/pandas-docs/stable/user_guide/indexing.html#returning-a-view-versus-a-copy\n",
            "  X.rename(columns={'county': 'country'}, inplace=True) #correcting a spell error in a variable name\n"
          ]
        }
      ]
    },
    {
      "cell_type": "code",
      "source": [
        "print(X)"
      ],
      "metadata": {
        "colab": {
          "base_uri": "https://localhost:8080/"
        },
        "id": "fA9OkwQ67ZVG",
        "outputId": "b7a0d43c-393f-436d-afa0-526e5027fcd8"
      },
      "execution_count": 5,
      "outputs": [
        {
          "output_type": "stream",
          "name": "stdout",
          "text": [
            "      state country community        communityname  fold  population  \\\n",
            "0         8     NaN       NaN         Lakewoodcity     1        0.19   \n",
            "1        53     NaN       NaN          Tukwilacity     1        0.00   \n",
            "2        24     NaN       NaN         Aberdeentown     1        0.00   \n",
            "3        34       5     81440  Willingborotownship     1        0.04   \n",
            "4        42      95      6096    Bethlehemtownship     1        0.01   \n",
            "...     ...     ...       ...                  ...   ...         ...   \n",
            "1989     12     NaN       NaN    TempleTerracecity    10        0.01   \n",
            "1990      6     NaN       NaN          Seasidecity    10        0.05   \n",
            "1991      9       9     80070        Waterburytown    10        0.16   \n",
            "1992     25      17     72600          Walthamcity    10        0.08   \n",
            "1993      6     NaN       NaN          Ontariocity    10        0.20   \n",
            "\n",
            "      householdsize  racepctblack  racePctWhite  racePctAsian  ...  \\\n",
            "0              0.33          0.02          0.90          0.12  ...   \n",
            "1              0.16          0.12          0.74          0.45  ...   \n",
            "2              0.42          0.49          0.56          0.17  ...   \n",
            "3              0.77          1.00          0.08          0.12  ...   \n",
            "4              0.55          0.02          0.95          0.09  ...   \n",
            "...             ...           ...           ...           ...  ...   \n",
            "1989           0.40          0.10          0.87          0.12  ...   \n",
            "1990           0.96          0.46          0.28          0.83  ...   \n",
            "1991           0.37          0.25          0.69          0.04  ...   \n",
            "1992           0.51          0.06          0.87          0.22  ...   \n",
            "1993           0.78          0.14          0.46          0.24  ...   \n",
            "\n",
            "      PolicAveOTWorked  LandArea  PopDens  PctUsePubTrans  PolicCars  \\\n",
            "0                 0.29      0.12     0.26            0.20       0.06   \n",
            "1                  NaN      0.02     0.12            0.45        NaN   \n",
            "2                  NaN      0.01     0.21            0.02        NaN   \n",
            "3                  NaN      0.02     0.39            0.28        NaN   \n",
            "4                  NaN      0.04     0.09            0.02        NaN   \n",
            "...                ...       ...      ...             ...        ...   \n",
            "1989               NaN      0.01     0.28            0.05        NaN   \n",
            "1990               NaN      0.02     0.37            0.20        NaN   \n",
            "1991              0.25      0.08     0.32            0.18       0.08   \n",
            "1992              0.19      0.03     0.38            0.33       0.02   \n",
            "1993              0.11      0.11     0.30            0.05       0.08   \n",
            "\n",
            "      PolicOperBudg  LemasPctPolicOnPatr  LemasGangUnitDeploy  \\\n",
            "0              0.04                  0.9                  0.5   \n",
            "1               NaN                  NaN                  NaN   \n",
            "2               NaN                  NaN                  NaN   \n",
            "3               NaN                  NaN                  NaN   \n",
            "4               NaN                  NaN                  NaN   \n",
            "...             ...                  ...                  ...   \n",
            "1989            NaN                  NaN                  NaN   \n",
            "1990            NaN                  NaN                  NaN   \n",
            "1991           0.06                 0.78                    0   \n",
            "1992           0.02                 0.79                    0   \n",
            "1993           0.04                 0.73                  0.5   \n",
            "\n",
            "      LemasPctOfficDrugUn  PolicBudgPerPop  \n",
            "0                    0.32             0.14  \n",
            "1                    0.00              NaN  \n",
            "2                    0.00              NaN  \n",
            "3                    0.00              NaN  \n",
            "4                    0.00              NaN  \n",
            "...                   ...              ...  \n",
            "1989                 0.00              NaN  \n",
            "1990                 0.00              NaN  \n",
            "1991                 0.91             0.28  \n",
            "1992                 0.22             0.18  \n",
            "1993                 1.00             0.13  \n",
            "\n",
            "[1994 rows x 127 columns]\n"
          ]
        }
      ]
    },
    {
      "cell_type": "markdown",
      "source": [
        "The dataset comprises 1994 observations and 127 variables, detailed on the dataset's [website](https://archive.ics.uci.edu/dataset/183/communities+and+crime).<br>\n",
        "Because of time and memory constraints around 17 variables were selected using the following method:"
      ],
      "metadata": {
        "id": "9oetCKFc7bTb"
      }
    },
    {
      "cell_type": "markdown",
      "source": [
        "-----------------------------------------\n",
        "**Select the variables that are more relevant to the target**\n",
        "\n",
        "1) Check for Na's and delete the variables with high Na's"
      ],
      "metadata": {
        "id": "xjqwNl6Hnfmc"
      }
    },
    {
      "cell_type": "code",
      "source": [
        "X = X.iloc[:, [0] + list(range(5, X.shape[1]))]\n",
        "# Count the missing values in each column\n",
        "na_counts = X.isna().sum() / len(X) * 100\n",
        "\n",
        "# Filter and print only the columns that have missing values\n",
        "na_counts = na_counts[na_counts > 0]\n",
        "print(na_counts)"
      ],
      "metadata": {
        "colab": {
          "base_uri": "https://localhost:8080/"
        },
        "id": "ZyzZ3a9Xnv_w",
        "outputId": "81702657-cc89-4ab7-eff9-c45c8a4da625"
      },
      "execution_count": 6,
      "outputs": [
        {
          "output_type": "stream",
          "name": "stdout",
          "text": [
            "OtherPerCap              0.050150\n",
            "LemasSwornFT            84.002006\n",
            "LemasSwFTPerPop         84.002006\n",
            "LemasSwFTFieldOps       84.002006\n",
            "LemasSwFTFieldPerPop    84.002006\n",
            "LemasTotalReq           84.002006\n",
            "LemasTotReqPerPop       84.002006\n",
            "PolicReqPerOffic        84.002006\n",
            "PolicPerPop             84.002006\n",
            "RacialMatchCommPol      84.002006\n",
            "PctPolicWhite           84.002006\n",
            "PctPolicBlack           84.002006\n",
            "PctPolicHisp            84.002006\n",
            "PctPolicAsian           84.002006\n",
            "PctPolicMinor           84.002006\n",
            "OfficAssgnDrugUnits     84.002006\n",
            "NumKindsDrugsSeiz       84.002006\n",
            "PolicAveOTWorked        84.002006\n",
            "PolicCars               84.002006\n",
            "PolicOperBudg           84.002006\n",
            "LemasPctPolicOnPatr     84.002006\n",
            "LemasGangUnitDeploy     84.002006\n",
            "PolicBudgPerPop         84.002006\n",
            "dtype: float64\n"
          ]
        }
      ]
    },
    {
      "cell_type": "code",
      "source": [
        "#Let's delete the variables with high Na count before reducing the data\n",
        "columns_to_remove = [\n",
        "    'OtherPerCap', 'LemasSwornFT', 'LemasSwFTPerPop', 'LemasSwFTFieldOps', 'LemasSwFTFieldPerPop',\n",
        "    'LemasTotalReq', 'LemasTotReqPerPop', 'PolicReqPerOffic', 'PolicPerPop',\n",
        "    'RacialMatchCommPol', 'PctPolicWhite', 'PctPolicBlack', 'PctPolicHisp',\n",
        "    'PctPolicAsian', 'PctPolicMinor', 'OfficAssgnDrugUnits', 'NumKindsDrugsSeiz',\n",
        "    'PolicAveOTWorked', 'PolicCars', 'PolicOperBudg', 'LemasPctPolicOnPatr',\n",
        "    'LemasGangUnitDeploy', 'PolicBudgPerPop'\n",
        "]\n",
        "X = X.drop(columns=columns_to_remove, axis=1)"
      ],
      "metadata": {
        "id": "z2glPa3in0pO"
      },
      "execution_count": 7,
      "outputs": []
    },
    {
      "cell_type": "markdown",
      "source": [
        "2)  Delete the variables with *low variance* and the *high correlated* ones"
      ],
      "metadata": {
        "id": "tt37poac_Jjf"
      }
    },
    {
      "cell_type": "code",
      "source": [
        "# Remove features with low variance\n",
        "selector = VarianceThreshold(threshold=(.01 * (1 - .01)))\n",
        "X_high_variance = selector.fit_transform(X)\n",
        "df = pd.DataFrame(X_high_variance, columns=X.columns[selector.get_support()])\n",
        "\n",
        "# Calculate the correlation matrix\n",
        "corr_matrix = df.corr().abs()\n",
        "upper = corr_matrix.where(np.triu(np.ones(corr_matrix.shape), k=1).astype(bool))\n",
        "to_drop = [column for column in upper.columns if any(upper[column] > 0.95)]\n",
        "\n",
        "# Drop features with correlation greater than 0.95\n",
        "df_reduced = df.drop(columns=to_drop)"
      ],
      "metadata": {
        "id": "PbVv2vjMn0tw"
      },
      "execution_count": 8,
      "outputs": []
    },
    {
      "cell_type": "code",
      "source": [
        "print(df_reduced)"
      ],
      "metadata": {
        "colab": {
          "base_uri": "https://localhost:8080/"
        },
        "id": "e_ciIno8oiz2",
        "outputId": "4b6dd699-2040-49b5-f4a3-c918a96de202"
      },
      "execution_count": 9,
      "outputs": [
        {
          "output_type": "stream",
          "name": "stdout",
          "text": [
            "      state  population  householdsize  racepctblack  racePctWhite  \\\n",
            "0       8.0        0.19           0.33          0.02          0.90   \n",
            "1      53.0        0.00           0.16          0.12          0.74   \n",
            "2      24.0        0.00           0.42          0.49          0.56   \n",
            "3      34.0        0.04           0.77          1.00          0.08   \n",
            "4      42.0        0.01           0.55          0.02          0.95   \n",
            "...     ...         ...            ...           ...           ...   \n",
            "1989   12.0        0.01           0.40          0.10          0.87   \n",
            "1990    6.0        0.05           0.96          0.46          0.28   \n",
            "1991    9.0        0.16           0.37          0.25          0.69   \n",
            "1992   25.0        0.08           0.51          0.06          0.87   \n",
            "1993    6.0        0.20           0.78          0.14          0.46   \n",
            "\n",
            "      racePctAsian  racePctHisp  agePct12t21  agePct12t29  agePct16t24  ...  \\\n",
            "0             0.12         0.17         0.34         0.47         0.29  ...   \n",
            "1             0.45         0.07         0.26         0.59         0.35  ...   \n",
            "2             0.17         0.04         0.39         0.47         0.28  ...   \n",
            "3             0.12         0.10         0.51         0.50         0.34  ...   \n",
            "4             0.09         0.05         0.38         0.38         0.23  ...   \n",
            "...            ...          ...          ...          ...          ...  ...   \n",
            "1989          0.12         0.16         0.43         0.51         0.35  ...   \n",
            "1990          0.83         0.32         0.69         0.86         0.73  ...   \n",
            "1991          0.04         0.25         0.35         0.50         0.31  ...   \n",
            "1992          0.22         0.10         0.58         0.74         0.63  ...   \n",
            "1993          0.24         0.77         0.50         0.62         0.40  ...   \n",
            "\n",
            "      NumInShelters  NumStreet  PctBornSameState  PctSameHouse85  \\\n",
            "0              0.04       0.00              0.42            0.50   \n",
            "1              0.00       0.00              0.50            0.34   \n",
            "2              0.00       0.00              0.49            0.54   \n",
            "3              0.00       0.00              0.30            0.73   \n",
            "4              0.00       0.00              0.72            0.64   \n",
            "...             ...        ...               ...             ...   \n",
            "1989           0.00       0.00              0.28            0.34   \n",
            "1990           0.01       0.00              0.25            0.17   \n",
            "1991           0.06       0.02              0.68            0.61   \n",
            "1992           0.04       0.01              0.64            0.54   \n",
            "1993           0.08       0.08              0.50            0.34   \n",
            "\n",
            "      PctSameCity85  PctSameState85  LandArea  PopDens  PctUsePubTrans  \\\n",
            "0              0.51            0.64      0.12     0.26            0.20   \n",
            "1              0.60            0.52      0.02     0.12            0.45   \n",
            "2              0.67            0.56      0.01     0.21            0.02   \n",
            "3              0.64            0.65      0.02     0.39            0.28   \n",
            "4              0.61            0.53      0.04     0.09            0.02   \n",
            "...             ...             ...       ...      ...             ...   \n",
            "1989           0.48            0.39      0.01     0.28            0.05   \n",
            "1990           0.10            0.00      0.02     0.37            0.20   \n",
            "1991           0.79            0.76      0.08     0.32            0.18   \n",
            "1992           0.59            0.52      0.03     0.38            0.33   \n",
            "1993           0.35            0.68      0.11     0.30            0.05   \n",
            "\n",
            "      LemasPctOfficDrugUn  \n",
            "0                    0.32  \n",
            "1                    0.00  \n",
            "2                    0.00  \n",
            "3                    0.00  \n",
            "4                    0.00  \n",
            "...                   ...  \n",
            "1989                 0.00  \n",
            "1990                 0.00  \n",
            "1991                 0.91  \n",
            "1992                 0.22  \n",
            "1993                 1.00  \n",
            "\n",
            "[1994 rows x 82 columns]\n"
          ]
        }
      ]
    },
    {
      "cell_type": "markdown",
      "source": [
        "The ***variables highly correlated to the target and that influence the most the target*** are, as seen in the results, ***82*** out of the 127 total ones"
      ],
      "metadata": {
        "id": "fx972zvDiz01"
      }
    },
    {
      "cell_type": "markdown",
      "source": [
        "3) Select the variables based on the objective of the project"
      ],
      "metadata": {
        "id": "r8C6AlJPBILE"
      }
    },
    {
      "cell_type": "code",
      "source": [
        "# For an analysis from a sociological and socio-economic perspective, the reduced dataframe will be considered, excluding columns related to police characteristics and those tagged as non-predictive.\n",
        "# These columns serve as identifiers or methodological tools rather than contributing to the predictive modeling of crime rates.\n",
        "# This approach will focus on the remaining 16 variables:\n",
        "\n",
        "columns_to_keep = ['PctYoungKids2Par', 'PctTeen2Par', 'PctEmploy', 'PctPopUnderPov', 'PctBSorMore',\n",
        "                      'pctWInvInc', 'PctSpeakEnglOnly', 'NumIlleg', 'PctLargHouseFam',\n",
        "                      'PctNotSpeakEnglWell', 'PctFam2Par', 'PctWorkMom', 'medIncome',\n",
        "                      'PctUnemployed', 'pctWPubAsst', 'state']\n",
        "\n",
        "data = X[columns_to_keep]\n",
        "target = y\n",
        "\n",
        "rename_dict = {\n",
        "    'PctYoungKids2Par': 'YoungKids_2Par',\n",
        "    'PctTeen2Par': 'Teen_2Par',\n",
        "    'PctEmploy': 'Employed',\n",
        "    'PctPopUnderPov': 'Below_Poverty',\n",
        "    'PctBSorMore': 'Degree_BS_Or_More',\n",
        "    'PctWorkMom': 'Working_mom',\n",
        "    'PctSpeakEnglOnly': 'Speak_Eng_Only',\n",
        "    'NumIlleg': 'Illegitimate_Births',\n",
        "    'PctLargHouseFam': 'Large_Families',\n",
        "    'PctNotSpeakEnglWell': 'Poor_English',\n",
        "    'PctFam2Par': 'Families_2Parents',\n",
        "    'pctWInvInc': 'Inc_from_inv',\n",
        "    'medIncome': 'Median_Income',\n",
        "    'PctUnemployed': 'Unemployment',\n",
        "    'pctWPubAsst': 'Welfare_Public_Assist',\n",
        "    'state': 'State'\n",
        "}\n",
        "\n",
        "data = data.rename(columns=rename_dict)"
      ],
      "metadata": {
        "id": "G1HT2wDSOEvX"
      },
      "execution_count": 10,
      "outputs": []
    },
    {
      "cell_type": "code",
      "source": [
        "print(data)"
      ],
      "metadata": {
        "colab": {
          "base_uri": "https://localhost:8080/"
        },
        "id": "6P_prOM9ZPuf",
        "outputId": "1db25b07-b85e-4b0d-fca8-fc4f7b59a14c"
      },
      "execution_count": 11,
      "outputs": [
        {
          "output_type": "stream",
          "name": "stdout",
          "text": [
            "      YoungKids_2Par  Teen_2Par  Employed  Below_Poverty  Degree_BS_Or_More  \\\n",
            "0               0.61       0.56      0.68           0.19               0.48   \n",
            "1               0.60       0.39      0.73           0.24               0.30   \n",
            "2               0.43       0.43      0.58           0.27               0.19   \n",
            "3               0.83       0.65      0.71           0.10               0.31   \n",
            "4               0.89       0.85      0.65           0.06               0.33   \n",
            "...              ...        ...       ...            ...                ...   \n",
            "1989            0.67       0.59      0.71           0.16               0.65   \n",
            "1990            0.69       0.70      0.77           0.32               0.22   \n",
            "1991            0.47       0.47      0.46           0.31               0.21   \n",
            "1992            0.75       0.71      0.57           0.16               0.42   \n",
            "1993            0.64       0.60      0.58           0.35               0.16   \n",
            "\n",
            "      Inc_from_inv  Speak_Eng_Only  Illegitimate_Births  Large_Families  \\\n",
            "0             0.60            0.89                 0.04            0.14   \n",
            "1             0.45            0.84                 0.00            0.16   \n",
            "2             0.39            0.88                 0.01            0.20   \n",
            "3             0.43            0.81                 0.03            0.56   \n",
            "4             0.68            0.88                 0.00            0.16   \n",
            "...            ...             ...                  ...             ...   \n",
            "1989          0.64            0.78                 0.00            0.09   \n",
            "1990          0.30            0.55                 0.03            0.57   \n",
            "1991          0.45            0.60                 0.13            0.26   \n",
            "1992          0.55            0.68                 0.02            0.26   \n",
            "1993          0.25            0.35                 0.11            0.84   \n",
            "\n",
            "      Poor_English  Families_2Parents  Working_mom  Median_Income  \\\n",
            "0             0.06               0.55         0.76           0.37   \n",
            "1             0.10               0.43         0.53           0.31   \n",
            "2             0.04               0.42         0.67           0.30   \n",
            "3             0.08               0.65         0.86           0.58   \n",
            "4             0.05               0.91         0.60           0.50   \n",
            "...            ...                ...          ...            ...   \n",
            "1989          0.09               0.63         0.73           0.42   \n",
            "1990          0.36               0.66         0.40           0.28   \n",
            "1991          0.28               0.42         0.46           0.31   \n",
            "1992          0.20               0.64         0.63           0.44   \n",
            "1993          0.77               0.61         0.35           0.40   \n",
            "\n",
            "      Unemployment  Welfare_Public_Assist  State  \n",
            "0             0.27                   0.15      8  \n",
            "1             0.27                   0.29     53  \n",
            "2             0.36                   0.40     24  \n",
            "3             0.33                   0.20     34  \n",
            "4             0.12                   0.11     42  \n",
            "...            ...                    ...    ...  \n",
            "1989          0.12                   0.06     12  \n",
            "1990          0.24                   0.37      6  \n",
            "1991          0.50                   0.48      9  \n",
            "1992          0.37                   0.24     25  \n",
            "1993          0.47                   0.47      6  \n",
            "\n",
            "[1994 rows x 16 columns]\n"
          ]
        }
      ]
    },
    {
      "cell_type": "code",
      "source": [
        "print(data.isna().sum())\n",
        "#No NA so nothing needs to be adjusted"
      ],
      "metadata": {
        "colab": {
          "base_uri": "https://localhost:8080/"
        },
        "id": "uY8KC9O2Q5Pe",
        "outputId": "359cf4f2-3f43-4b5e-f265-d573f15c029b"
      },
      "execution_count": 12,
      "outputs": [
        {
          "output_type": "stream",
          "name": "stdout",
          "text": [
            "YoungKids_2Par           0\n",
            "Teen_2Par                0\n",
            "Employed                 0\n",
            "Below_Poverty            0\n",
            "Degree_BS_Or_More        0\n",
            "Inc_from_inv             0\n",
            "Speak_Eng_Only           0\n",
            "Illegitimate_Births      0\n",
            "Large_Families           0\n",
            "Poor_English             0\n",
            "Families_2Parents        0\n",
            "Working_mom              0\n",
            "Median_Income            0\n",
            "Unemployment             0\n",
            "Welfare_Public_Assist    0\n",
            "State                    0\n",
            "dtype: int64\n"
          ]
        }
      ]
    },
    {
      "cell_type": "markdown",
      "source": [
        "Lastly, the dataframe has been saved as a *`.csv`* file to be imported in RStudio, where the analysis was continued.  "
      ],
      "metadata": {
        "id": "eKpxsTPm_0e8"
      }
    },
    {
      "cell_type": "code",
      "source": [
        "#Write \"data\" and the target variable into a dataframe\n",
        "df_crime = data.copy()\n",
        "df_crime['target'] = target\n",
        "\n",
        "\n",
        "#Save the DataFrame to a CSV file such that we can download it and import into the R enviroenment\n",
        "df_crime.to_csv('crime_data.csv', index=False)"
      ],
      "metadata": {
        "id": "qKa_wRLLTfK8"
      },
      "execution_count": 13,
      "outputs": []
    },
    {
      "cell_type": "markdown",
      "source": [
        "-----------------------------------------"
      ],
      "metadata": {
        "id": "N6AupVernnLb"
      }
    }
  ]
}